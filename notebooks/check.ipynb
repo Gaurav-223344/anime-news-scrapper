{
 "cells": [
  {
   "cell_type": "code",
   "execution_count": null,
   "metadata": {},
   "outputs": [],
   "source": []
  },
  {
   "cell_type": "code",
   "execution_count": 1,
   "metadata": {},
   "outputs": [],
   "source": [
    "from bs4 import BeautifulSoup\n",
    "import requests"
   ]
  },
  {
   "cell_type": "code",
   "execution_count": 2,
   "metadata": {},
   "outputs": [],
   "source": [
    "url = \"https://www.animenewsnetwork.com/news/\""
   ]
  },
  {
   "cell_type": "code",
   "execution_count": 9,
   "metadata": {},
   "outputs": [],
   "source": [
    "response = requests.get(url)"
   ]
  },
  {
   "cell_type": "code",
   "execution_count": 10,
   "metadata": {},
   "outputs": [
    {
     "data": {
      "text/plain": [
       "<Response [200]>"
      ]
     },
     "execution_count": 10,
     "metadata": {},
     "output_type": "execute_result"
    }
   ],
   "source": [
    "response"
   ]
  },
  {
   "cell_type": "code",
   "execution_count": 6,
   "metadata": {},
   "outputs": [],
   "source": [
    "html_content = response.text"
   ]
  },
  {
   "cell_type": "code",
   "execution_count": 11,
   "metadata": {},
   "outputs": [],
   "source": [
    "def get_soup(url:str):\n",
    "    response = requests.get(url)\n",
    "    html_content = response.text\n",
    "    soup = BeautifulSoup(html_content, \"lxml\")\n",
    "    return soup"
   ]
  },
  {
   "cell_type": "code",
   "execution_count": 12,
   "metadata": {},
   "outputs": [],
   "source": [
    "soup = get_soup(url)"
   ]
  },
  {
   "cell_type": "code",
   "execution_count": 18,
   "metadata": {},
   "outputs": [],
   "source": [
    "all_a = soup.select(\"div.herald div.wrap div h3 a\")"
   ]
  },
  {
   "cell_type": "code",
   "execution_count": 23,
   "metadata": {},
   "outputs": [],
   "source": [
    "base_url = \"https://www.animenewsnetwork.com\"\n",
    "all_urls = [ f\"{base_url}{a.get('href')}\" for a in all_a]"
   ]
  },
  {
   "cell_type": "code",
   "execution_count": 25,
   "metadata": {},
   "outputs": [
    {
     "data": {
      "text/plain": [
       "['https://www.animenewsnetwork.com/news/2024-08-17/japanese-animation-tv-ranking-august-5-11/.214364',\n",
       " 'https://www.animenewsnetwork.com/news/2024-08-17/ani-one-asia-streams-my-hero-academia-the-movie-world-heroes-mission-anime-on-august-18/.214407',\n",
       " 'https://www.animenewsnetwork.com/news/2024-08-17/penguin-highway-mind-game-ride-your-wave-anime-screen-at-japan-talkies-in-kolkata-india/.214397',\n",
       " 'https://www.animenewsnetwork.com/news/2024-08-17/2024-crayon-shin-chan-film-opens-at-no.2-bocchi-the-rock-re-re-at-no.6/.214258',\n",
       " 'https://www.animenewsnetwork.com/news/2024-08-16/titmouse-polygon-pictures-collaborate-to-produce-multiple-cg-series/.214389',\n",
       " 'https://www.animenewsnetwork.com/news/2024-08-16/gundam-breaker-battlogue-anime-returns-to-youtube-with-english-subtitles/.214388',\n",
       " 'https://www.animenewsnetwork.com/news/2024-08-16/suicide-squad-isekai-anime-gets-webtoon-on-august-25/.214386',\n",
       " 'https://www.animenewsnetwork.com/news/2024-08-16/nintama-rantaro-anime-film-confirms-returning-cast-unveils-character-visuals/.214383',\n",
       " 'https://www.animenewsnetwork.com/news/2024-08-16/bye-bye-earth-anime-casts-toshiyuki-toyonaga/.214385',\n",
       " 'https://www.animenewsnetwork.com/news/2024-08-16/mayonaka-punch-anime-casts-nobuhiko-okamoto-tomokazu-sugita/.214382',\n",
       " 'https://www.animenewsnetwork.com/news/2024-08-16/cartoon-network-india-airs-dragon-ball-anime-on-august-25/.214314',\n",
       " 'https://www.animenewsnetwork.com/news/2024-08-16/bluelock-episode-nagi-anime-film-opens-in-indian-theaters-on-august-30/.214365',\n",
       " 'https://www.animenewsnetwork.com/news/2024-08-16/365-days-to-the-wedding-tv-anime-reveals-theme-songs-october-3-debut/.214370',\n",
       " 'https://www.animenewsnetwork.com/news/2024-08-16/a-terrified-teacher-at-ghoul-school-tv-anime-reveals-october-8-debut-half-year-run-more-cast/.214369',\n",
       " 'https://www.animenewsnetwork.com/news/2024-08-16/madoka-magica-walpurgisnacht-rising-anime-film-delayed-to-winter-2025/.214368',\n",
       " 'https://www.animenewsnetwork.com/news/2024-08-16/aniplex-to-host-aniplex-online-fest-2024-event-on-september-15/.214367',\n",
       " 'https://www.animenewsnetwork.com/news/2024-08-16/medalist-anime-reveals-2nd-promo-video-new-visual-more-cast/.214366',\n",
       " 'https://www.animenewsnetwork.com/news/2024-08-16/live-action-happy-of-the-end-bl-series-announces-4-more-cast-members/.214356',\n",
       " 'https://www.animenewsnetwork.com/news/2024-08-15/persona-3-reload-game-episode-aigis-dlc-trailer-highlights-gameplay/.214354',\n",
       " 'https://www.animenewsnetwork.com/news/2024-08-15/transformers-one-animated-prequel-film-new-video-highlights-cast/.214353',\n",
       " 'https://www.animenewsnetwork.com/news/2024-08-15/north-american-anime-manga-releases-august-11-17/.214283',\n",
       " 'https://www.animenewsnetwork.com/news/2024-08-15/naoko-yamada-science-saru-the-colors-within-film-trailer-reveals-imax-screenings-previews-theme-song/.214348',\n",
       " 'https://www.animenewsnetwork.com/news/2024-08-15/dan-da-dan-anime-streams-english-subbed-trailer-for-theatrical-screenings/.214347',\n",
       " 'https://www.animenewsnetwork.com/news/2024-08-15/campione-s-jo-takezuki-launches-new-manga/.214074',\n",
       " 'https://www.animenewsnetwork.com/news/2024-08-15/kazumi-yamashita-announces-upcoming-english-release-for-land-manga/.214319',\n",
       " 'https://www.animenewsnetwork.com/news/2024-08-15/antarctic-press-licenses-toshio-maeda-magical-sisters-adult-manga/.214332',\n",
       " 'https://www.animenewsnetwork.com/news/2024-08-15/mini4king-artist-yuki-imada-announces-shadow-the-hedgehog-manga/.214320',\n",
       " 'https://www.animenewsnetwork.com/daily-briefs/2024-08-15/ron-kamonohashi-forbidden-deductions-season-2-anime-premieres-on-october-7/.214343',\n",
       " 'https://www.animenewsnetwork.com/news/2024-08-15/yakuza-fiance-tv-anime-unveils-1st-promo-video-more-cast-ending-theme-song-artist/.214341',\n",
       " 'https://www.animenewsnetwork.com/news/2024-08-15/k-manga-adds-ship-of-theseus-longing-for-home-manga/.214322',\n",
       " 'https://www.animenewsnetwork.com/news/2024-08-15/harvey-awards-nominate-frieren-delicious-in-dungeon-the-summer-hikaru-died-more-manga/.214321',\n",
       " 'https://www.animenewsnetwork.com/news/2024-08-15/comic-market-104-draws-260000-attendees-across-2-days/.214331',\n",
       " 'https://www.animenewsnetwork.com/news/2024-08-15/classic-stars-tv-anime-2nd-character-video-features-mozart/.214340',\n",
       " 'https://www.animenewsnetwork.com/news/2024-08-15/shinkalion-change-the-world-anime-casts-tasuku-hatanaka/.214336',\n",
       " 'https://www.animenewsnetwork.com/news/2024-08-15/sword-art-online-fractured-daydream-game-streams-trailer-for-kirito-the-hero-2d-game/.214328',\n",
       " 'https://www.animenewsnetwork.com/news/2024-08-15/haigakura-anime-reveals-5-new-cast/.214338',\n",
       " 'https://www.animenewsnetwork.com/news/2024-08-15/shangri-la-frontier-2nd-season-anime-reveals-2-new-cast-key-visual/.214337',\n",
       " 'https://www.animenewsnetwork.com/news/2024-08-14/how-heavy-are-the-dumbbells-you-lift-manga-resumes-after-10-month-hiatus/.214199',\n",
       " 'https://www.animenewsnetwork.com/news/2024-08-14/queen-quality-manga-enters-climax/.214240',\n",
       " 'https://www.animenewsnetwork.com/news/2024-08-14/transformers-one-animated-prequel-film-new-trailer-highlights-optimus-prime-megatron-friendship/.214315',\n",
       " 'https://www.animenewsnetwork.com/news/2024-08-14/kamuya-ride-manga-by-nobunagun-masato-hisa-moves-online/.214241',\n",
       " 'https://www.animenewsnetwork.com/news/2024-08-14/hidive-reveals-english-dubs-for-i-parry-everything-jellyfish-cant-swim-in-the-night-oshi-no-ko-/.214313',\n",
       " 'https://www.animenewsnetwork.com/news/2024-08-14/i-get-the-feeling-that-nobukuni-san-likes-me-manga-ends/.214238',\n",
       " 'https://www.animenewsnetwork.com/news/2024-08-14/shojo-null-manga-ends-in-4-chapters/.214196',\n",
       " 'https://www.animenewsnetwork.com/news/2024-08-14/belladonna-of-sadness-anime-film-art-director-to-crowdfund-restored-art-book/.214284',\n",
       " 'https://www.animenewsnetwork.com/news/2024-08-14/marvelous-usa-announces-structural-changes-with-xseed-games-ahead-of-expansion/.214285',\n",
       " 'https://www.animenewsnetwork.com/news/2024-08-14/crunchyroll-posts-english-subtitled-trailer-for-kizumonogatari-koyomi-vamp-film/.214288',\n",
       " 'https://www.animenewsnetwork.com/news/2024-08-14/offshore-lightning-manga-nominated-for-2024-ignatz-award/.214297',\n",
       " 'https://www.animenewsnetwork.com/news/2024-08-14/the-prince-of-tennis-ii-u-17-world-cup-semifinal-anime-promo-video-unveils-theme-song-staff-october-/.214306',\n",
       " 'https://www.animenewsnetwork.com/news/2024-08-14/a-terrified-teacher-at-ghoul-school-anime-unveils-3-more-cast-members/.214299',\n",
       " 'https://www.animenewsnetwork.com/news/2024-08-14/shoshimin-how-to-become-ordinary-anime-reveals-promo-video-visual-for-next-case/.214298',\n",
       " 'https://www.animenewsnetwork.com/news/2024-08-13/wonderful-precure-the-movie-casts-youtube-comedy-duo-jaru-jaru/.214286',\n",
       " 'https://www.animenewsnetwork.com/news/2024-08-13/live-action-solitary-gourmet-film-teaser-shows-goro-at-paris/.214287',\n",
       " 'https://www.animenewsnetwork.com/news/2024-08-13/hokkaido-gals-are-super-adorable-manga-ends-in-2-chapters/.214281',\n",
       " 'https://www.animenewsnetwork.com/news/2024-08-13/ai-no-idenshi-blue-age-manga-ends-in-2-chapters/.214135',\n",
       " 'https://www.animenewsnetwork.com/news/2024-08-13/kei-natsumi-higurashi-no-naku-koro-ni-rei-iro-totoshi-hen-manga-ends-with-4th-volume/.214252',\n",
       " 'https://www.animenewsnetwork.com/news/2024-08-13/princess-peach-showtime-developer-ganbare-goemon-producer-bakeru-game-heads-west/.214282',\n",
       " 'https://www.animenewsnetwork.com/news/2024-08-13/sato-ito-chihiro-kun-only-has-eyes-for-me-manga-ends-with-12th-volume/.214254',\n",
       " 'https://www.animenewsnetwork.com/news/2024-08-13/writer-number-8-artist-ryohei-masuko-to-launch-new-manga-on-september-4/.214213',\n",
       " 'https://www.animenewsnetwork.com/news/2024-08-13/senpai-this-cant-be-love-author-shinta-harekawa-launches-new-manga-on-august-21/.214209',\n",
       " 'https://www.animenewsnetwork.com/news/2024-08-13/chiikawa-gets-chiikawa-pocket-smartphone-game/.214245',\n",
       " 'https://www.animenewsnetwork.com/news/2024-08-13/s-korea-krafton-acquires-tango-gameworks-studio-hi-fi-rush-ip/.214243',\n",
       " 'https://www.animenewsnetwork.com/news/2024-08-13/anime-nyc-screens-n-american-premiere-of-case-closed-the-bride-of-halloween-anime-film/.214264',\n",
       " 'https://www.animenewsnetwork.com/news/2024-08-13/a-terrified-teacher-at-ghoul-school-anime-casts-taito-ban-yuki-sakakihara-tomokazu-sugita/.214266',\n",
       " 'https://www.animenewsnetwork.com/news/2024-08-13/netflix-streams-4th-part-for-pokemon-horizons-the-series-on-november-22/.214265',\n",
       " 'https://www.animenewsnetwork.com/daily-briefs/2024-08-13/date-a-live-ren-dystopia-game-launches-worldwide-on-steam-on-september-5/.214263',\n",
       " 'https://www.animenewsnetwork.com/news/2024-08-13/manga-up-global-adds-the-duke-daughter-drops-her-engagement-and-facade-manga/.214261',\n",
       " 'https://www.animenewsnetwork.com/news/2024-08-13/dragon-ball-sparking-zero-game-reveals-characters-from-android-saga/.214262',\n",
       " 'https://www.animenewsnetwork.com/news/2024-08-13/alterna-vvelt-blue-exorcist-another-story-smartphone-game-reveals-new-video-theme-song/.214259',\n",
       " 'https://www.animenewsnetwork.com/news/2024-08-13/narenare-cheer-for-you-anime-casts-kana-ichinose/.214256',\n",
       " 'https://www.animenewsnetwork.com/news/2024-08-13/blue-exorcist-beyond-the-snow-saga-anime-new-video-unveils-october-5-debut-ending-song/.214247',\n",
       " 'https://www.animenewsnetwork.com/news/2024-08-12/live-action-trillion-game-film-reveals-february-14-release-date-key-visual-cast/.214239',\n",
       " 'https://www.animenewsnetwork.com/news/2024-08-12/killing-my-sensei-softly-manga-listed-to-end-with-8th-volume/.214200',\n",
       " 'https://www.animenewsnetwork.com/news/2024-08-12/nobunagun-hisa-masato-artist-naoki-azuma-launch-new-manga-on-august-22/.214216',\n",
       " 'https://www.animenewsnetwork.com/news/2024-08-12/shin-ei-animation-animates-for-ryan-world-the-movie-titan-universe-adventure-film/.214237',\n",
       " 'https://www.animenewsnetwork.com/news/2024-08-12/bungo-stray-dogs-dazai-chuuya-age-fifteen-manga-listed-to-end-with-4th-volume/.214203',\n",
       " 'https://www.animenewsnetwork.com/news/2024-08-12/satoshi-miyakawa-winning-manga-gets-serialization-on-august-23/.214217',\n",
       " 'https://www.animenewsnetwork.com/news/2024-08-12/sonic-generations-game-delisted-from-online-stores/.214183',\n",
       " 'https://www.animenewsnetwork.com/news/2024-08-12/ill-become-a-villainess-who-goes-down-in-history-anime-streams-character-video-for-duke-seeker/.214182',\n",
       " 'https://www.animenewsnetwork.com/news/2024-08-12/live-action-sayuri-film-reveals-new-footage-in-trailer/.214189',\n",
       " 'https://www.animenewsnetwork.com/news/2024-08-12/sword-art-online-fractured-daydream-game-streams-character-trailer-highlighting-administrator/.214157',\n",
       " 'https://www.animenewsnetwork.com/news/2024-08-12/spice-and-wolf-merchant-meets-the-wise-wolf-anime-unveils-visual-cast-for-new-arc/.214230',\n",
       " 'https://www.animenewsnetwork.com/news/2024-08-12/anime-nyc-hosts-daigo-ikeda/.214195',\n",
       " 'https://www.animenewsnetwork.com/news/2024-08-12/adult-swim-streams-new-early-preview-for-rick-and-morty-the-anime-titled-two-jerrys/.214192',\n",
       " 'https://www.animenewsnetwork.com/news/2024-08-12/netflix-streams-the-first-slam-dunk-film-in-u.s-on-august-25/.214187',\n",
       " 'https://www.animenewsnetwork.com/news/2024-08-12/muv-luv-franchise-gets-strategy-rpg-muv-luv-tactics/.214227',\n",
       " 'https://www.animenewsnetwork.com/news/2024-08-12/bleach-rebirth-of-souls-game-character-trailer-previews-yoruichi/.214226',\n",
       " 'https://www.animenewsnetwork.com/news/2024-08-12/mayonaka-punch-anime-streams-animated-short-for-ichiko-on-youtube/.214225',\n",
       " 'https://www.animenewsnetwork.com/news/2024-08-12/hamidashi-creative-anime-teaser-video-reveals-main-cast-staff-october-3-premiere/.214219',\n",
       " 'https://www.animenewsnetwork.com/news/2024-08-12/japanese-animation-tv-ranking-july-29-august-4/.214130',\n",
       " 'https://www.animenewsnetwork.com/news/2024-08-12/japan-video-game-rankings-july-29-august-4/.214129',\n",
       " 'https://www.animenewsnetwork.com/news/2024-08-11/dr-stone-anime-last-season-to-air-in-2025-across-3-split-quarters/.214188',\n",
       " 'https://www.animenewsnetwork.com/news/2024-08-11/mission-yozakura-family-anime-adds-rina-sato-to-cast/.214184',\n",
       " 'https://www.animenewsnetwork.com/news/2024-08-11/tower-of-god-season-2-announces-5-more-cast-members/.214185',\n",
       " 'https://www.animenewsnetwork.com/news/2024-08-11/fairy-tail-100-years-quest-anime-casts-nobuhiko-okamoto/.214186',\n",
       " 'https://www.animenewsnetwork.com/news/2024-08-10/the-one-piece-anime-series-remake-reveals-main-staff/.214168']"
      ]
     },
     "execution_count": 25,
     "metadata": {},
     "output_type": "execute_result"
    }
   ],
   "source": [
    "all_urls"
   ]
  },
  {
   "cell_type": "code",
   "execution_count": null,
   "metadata": {},
   "outputs": [],
   "source": []
  }
 ],
 "metadata": {
  "kernelspec": {
   "display_name": ".venv",
   "language": "python",
   "name": "python3"
  },
  "language_info": {
   "codemirror_mode": {
    "name": "ipython",
    "version": 3
   },
   "file_extension": ".py",
   "mimetype": "text/x-python",
   "name": "python",
   "nbconvert_exporter": "python",
   "pygments_lexer": "ipython3",
   "version": "3.11.5"
  }
 },
 "nbformat": 4,
 "nbformat_minor": 2
}
